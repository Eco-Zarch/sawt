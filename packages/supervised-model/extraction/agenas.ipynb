{
 "cells": [
  {
   "cell_type": "code",
   "execution_count": 3,
   "metadata": {},
   "outputs": [],
   "source": [
    "import os\n",
    "import re\n",
    "import pandas as pd\n",
    "from docx import Document\n",
    "\n",
    "def extract_ordinances(text):\n",
    "    # Split the text into sections.\n",
    "    sections = re.split(r\"\\d+\\w*\\. ORDINANCES ON FIRST READING\", text)\n",
    "    \n",
    "    ordinances_list = []\n",
    "    for section in sections[1:]:  # Skip the first section because it's before the first heading.\n",
    "        # Split the section into ordinances.\n",
    "        ordinances = re.split(r\"\\d+\\w*\\.\", section)\n",
    "        \n",
    "        for ordinance in ordinances[1:]:  # Skip the first ordinance because it's before the first heading.\n",
    "            # Split the ordinance into lines.\n",
    "            lines = ordinance.split('\\n')\n",
    "            \n",
    "            # The first line is the title.\n",
    "            title = lines[0].strip()\n",
    "            \n",
    "            # The brief is after the line that starts with \"Brief:\" and before the line that starts with \"Annotation:\".\n",
    "            if 'Brief:' in lines and 'Annotation:' in lines:\n",
    "                brief_index = lines.index('Brief:') + 1\n",
    "                annotation_index = lines.index('Annotation:')\n",
    "                brief = ' '.join(lines[brief_index:annotation_index]).strip()\n",
    "                ordinances_list.append({\"title\": title, \"brief\": brief})\n",
    "            \n",
    "    return ordinances_list\n",
    "\n",
    "\n",
    "def process_docx_files(directory_path):\n",
    "    all_ordinances = []\n",
    "    for filename in os.listdir(directory_path):\n",
    "        if filename.endswith('.docx') and not filename.startswith('~$'):\n",
    "            doc_path = os.path.join(directory_path, filename)\n",
    "            doc = Document(doc_path)\n",
    "            text = ' '.join([paragraph.text for paragraph in doc.paragraphs])\n",
    "            ordinances = extract_ordinances(text)\n",
    "            for ordinance in ordinances:\n",
    "                ordinance[\"filename\"] = filename\n",
    "                all_ordinances.append(ordinance)\n",
    "    df = pd.DataFrame(all_ordinances)\n",
    "    df.to_excel('ordinances.xlsx', index=False)\n",
    "    \n",
    "process_docx_files('../../backend/src/minutes_agendas_directory/agendas')"
   ]
  }
 ],
 "metadata": {
  "kernelspec": {
   "display_name": "Python 3",
   "language": "python",
   "name": "python3"
  },
  "language_info": {
   "codemirror_mode": {
    "name": "ipython",
    "version": 3
   },
   "file_extension": ".py",
   "mimetype": "text/x-python",
   "name": "python",
   "nbconvert_exporter": "python",
   "pygments_lexer": "ipython3",
   "version": "3.11.1"
  },
  "orig_nbformat": 4
 },
 "nbformat": 4,
 "nbformat_minor": 2
}
